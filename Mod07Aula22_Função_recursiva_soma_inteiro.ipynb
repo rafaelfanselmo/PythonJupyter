{
 "cells": [
  {
   "cell_type": "code",
   "execution_count": 2,
   "id": "c1a6ff18",
   "metadata": {},
   "outputs": [
    {
     "name": "stdout",
     "output_type": "stream",
     "text": [
      "1\n",
      "3\n",
      "6\n",
      "10\n",
      "15\n",
      "21\n"
     ]
    }
   ],
   "source": [
    "def somaN(n):\n",
    "    if(n>1):\n",
    "        r = n + somaN(n-1)\n",
    "    else:\n",
    "        r = 1\n",
    "    return r\n",
    "\n",
    "print(somaN(1))\n",
    "print(somaN(2))\n",
    "print(somaN(3))\n",
    "print(somaN(4))\n",
    "print(somaN(5))\n",
    "print(somaN(6))"
   ]
  }
 ],
 "metadata": {
  "kernelspec": {
   "display_name": "Python 3 (ipykernel)",
   "language": "python",
   "name": "python3"
  },
  "language_info": {
   "codemirror_mode": {
    "name": "ipython",
    "version": 3
   },
   "file_extension": ".py",
   "mimetype": "text/x-python",
   "name": "python",
   "nbconvert_exporter": "python",
   "pygments_lexer": "ipython3",
   "version": "3.7.4"
  }
 },
 "nbformat": 4,
 "nbformat_minor": 5
}
