{
 "cells": [
  {
   "cell_type": "code",
   "execution_count": 9,
   "id": "19a70c5c",
   "metadata": {},
   "outputs": [
    {
     "name": "stdout",
     "output_type": "stream",
     "text": [
      "Resultado Padrão Populacional = 2.43\n",
      "Resultado Padrão Amostral = 2.63\n"
     ]
    }
   ],
   "source": [
    "def ma(lista):\n",
    "    soma = 0\n",
    "    n    = len(lista)\n",
    "    \n",
    "    for i in lista:\n",
    "        soma = soma + i\n",
    "    total = soma/n\n",
    "    return total\n",
    "\n",
    "def calcSQD(lista):\n",
    "    med = ma(lista)\n",
    "    soma = 0\n",
    "    \n",
    "    for i in lista:\n",
    "        soma = soma + (i - med)**2\n",
    "    return soma\n",
    "\n",
    "def devPP(lista):\n",
    "    soma = calcSQD(lista)\n",
    "    n    = len(lista)\n",
    "    total = soma/n-1\n",
    "    dpp = total**(1/2)\n",
    "    return dpp\n",
    "\n",
    "def devPA(lista):\n",
    "    soma = calcSQD(lista)\n",
    "    n    = len(lista)\n",
    "    total = soma/n\n",
    "    dpp = total**(1/2)\n",
    "    return dpp\n",
    "    \n",
    "def desviop(**par):\n",
    "    lista = par[\"lista\"]\n",
    "    tip   = par[\"tip\"]\n",
    "    \n",
    "    if (tip==0):\n",
    "        r = devPP(lista)\n",
    "    else:\n",
    "        r = devPA(lista)\n",
    "    return r\n",
    "\n",
    "l1 = [7,8,9,6,5,10,11,3,12,8,9,6,12]\n",
    "t = 0\n",
    "m1 = desviop(tip = t,lista=l1)\n",
    "print('Resultado Padrão Populacional = {0:.2f}'.format(m1))\n",
    "m1 = desviop(tip = 1,lista=l1)\n",
    "print('Resultado Padrão Amostral = {0:.2f}'.format(m1))\n"
   ]
  }
 ],
 "metadata": {
  "kernelspec": {
   "display_name": "Python 3 (ipykernel)",
   "language": "python",
   "name": "python3"
  },
  "language_info": {
   "codemirror_mode": {
    "name": "ipython",
    "version": 3
   },
   "file_extension": ".py",
   "mimetype": "text/x-python",
   "name": "python",
   "nbconvert_exporter": "python",
   "pygments_lexer": "ipython3",
   "version": "3.7.4"
  }
 },
 "nbformat": 4,
 "nbformat_minor": 5
}
