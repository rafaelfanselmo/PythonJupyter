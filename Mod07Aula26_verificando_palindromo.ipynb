{
 "cells": [
  {
   "cell_type": "code",
   "execution_count": 17,
   "id": "422eca5c",
   "metadata": {},
   "outputs": [
    {
     "name": "stdout",
     "output_type": "stream",
     "text": [
      "\n",
      "n 5 e num 2\n",
      "\n",
      "pa[0] = A\n",
      "pa[4] = A\n",
      "pa[1] = R\n",
      "pa[3] = R\n",
      "A Palavra arara é palindromo!\n"
     ]
    }
   ],
   "source": [
    "def verif_palindromo(pa):\n",
    "    pa = pa.upper()\n",
    "    n  = len(pa) \n",
    "    num= int(n/2)\n",
    "    verif = True\n",
    "    print()\n",
    "    print('n {:d} e num {:d}'.format(n,num))\n",
    "    print()\n",
    "    \n",
    "    for i in range(0,num):\n",
    "        j = n-(i+1)\n",
    "        print(\"pa[{0:d}] = {1:s}\".format(i,pa[i]))\n",
    "        print(\"pa[{0:d}] = {1:s}\".format(j,pa[j]))\n",
    "        if (pa[i] != pa[j]):\n",
    "            verif = False\n",
    "            break\n",
    "    return verif\n",
    "\n",
    "p = \"arara\"\n",
    "if(verif_palindromo(p)):\n",
    "    print('A Palavra {0:s} é palindromo!'.format(p))\n",
    "else:\n",
    "    print('A palvra {0:s} Não é palindromo!'.format(p))"
   ]
  }
 ],
 "metadata": {
  "kernelspec": {
   "display_name": "Python 3 (ipykernel)",
   "language": "python",
   "name": "python3"
  },
  "language_info": {
   "codemirror_mode": {
    "name": "ipython",
    "version": 3
   },
   "file_extension": ".py",
   "mimetype": "text/x-python",
   "name": "python",
   "nbconvert_exporter": "python",
   "pygments_lexer": "ipython3",
   "version": "3.7.4"
  }
 },
 "nbformat": 4,
 "nbformat_minor": 5
}
