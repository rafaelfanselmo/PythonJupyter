{
 "cells": [
  {
   "cell_type": "code",
   "execution_count": 15,
   "id": "f0159894",
   "metadata": {},
   "outputs": [
    {
     "name": "stdout",
     "output_type": "stream",
     "text": [
      "['g', 't', 'a', 'a', 'c', 't', 'g', 't', 'c']\n",
      "['g', 't']\n",
      "['g', 't']\n",
      "------------------\n",
      "['g', 't']\n",
      "['t', 'a']\n",
      "------------------\n",
      "['g', 't']\n",
      "['a', 'a']\n",
      "------------------\n",
      "['g', 't']\n",
      "['a', 'c']\n",
      "------------------\n",
      "['g', 't']\n",
      "['c', 't']\n",
      "------------------\n",
      "['g', 't']\n",
      "['t', 'g']\n",
      "------------------\n",
      "['g', 't']\n",
      "['g', 't']\n",
      "------------------\n",
      "['g', 't']\n",
      "['t', 'c']\n",
      "------------------\n",
      "2\n"
     ]
    }
   ],
   "source": [
    "def verif_seq(s1,s2):\n",
    "    status = True\n",
    "    for xi, yi in zip(s1,s2):\n",
    "        if(xi != yi):\n",
    "            status = False\n",
    "            break\n",
    "    return status\n",
    "\n",
    "def subseq_lista(lista1,sub1):\n",
    "    soma = 0\n",
    "    n = len(lista1)\n",
    "    tam =len(sub1)\n",
    "    \n",
    "    for i in range(0,n-tam+1):\n",
    "        sub2 = lista1[i:i+tam]\n",
    "        print(sub1)\n",
    "        print(sub2)\n",
    "        print('------------------')\n",
    "        if verif_seq(sub1,sub2):\n",
    "            soma+=1\n",
    "    return soma\n",
    "\n",
    "l1 =['g','t','a','a','c','t','g','t','c']\n",
    "e = ['g','t']\n",
    "\n",
    "print(l1)\n",
    "soma = subseq_lista(l1,e)\n",
    "print(soma)"
   ]
  }
 ],
 "metadata": {
  "kernelspec": {
   "display_name": "Python 3 (ipykernel)",
   "language": "python",
   "name": "python3"
  },
  "language_info": {
   "codemirror_mode": {
    "name": "ipython",
    "version": 3
   },
   "file_extension": ".py",
   "mimetype": "text/x-python",
   "name": "python",
   "nbconvert_exporter": "python",
   "pygments_lexer": "ipython3",
   "version": "3.7.4"
  }
 },
 "nbformat": 4,
 "nbformat_minor": 5
}
