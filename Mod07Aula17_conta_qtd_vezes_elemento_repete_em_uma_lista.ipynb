{
 "cells": [
  {
   "cell_type": "code",
   "execution_count": 6,
   "id": "300acc94",
   "metadata": {},
   "outputs": [
    {
     "name": "stdout",
     "output_type": "stream",
     "text": [
      "['g', 't', 'a', 'c', 't', 'g', 'c']\n",
      "Número de Ocorrência de 'a' é: 1\n"
     ]
    }
   ],
   "source": [
    "def ocorrencia_lista(lista1, elem):\n",
    "    soma = 0\n",
    "    for xi in lista1:\n",
    "        if(elem == xi):\n",
    "            soma+=1\n",
    "    return soma\n",
    "    \n",
    "lista1 = ['g','t','a','c','t','g','c']\n",
    "e = 'a'\n",
    "print(lista1)\n",
    "soma = ocorrencia_lista(lista1,e)\n",
    "print('Número de Ocorrência de \\'{0:s}\\' é: {1:d}'.format(e,soma))"
   ]
  }
 ],
 "metadata": {
  "kernelspec": {
   "display_name": "Python 3 (ipykernel)",
   "language": "python",
   "name": "python3"
  },
  "language_info": {
   "codemirror_mode": {
    "name": "ipython",
    "version": 3
   },
   "file_extension": ".py",
   "mimetype": "text/x-python",
   "name": "python",
   "nbconvert_exporter": "python",
   "pygments_lexer": "ipython3",
   "version": "3.7.4"
  }
 },
 "nbformat": 4,
 "nbformat_minor": 5
}
