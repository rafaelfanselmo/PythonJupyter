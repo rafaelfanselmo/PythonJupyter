{
 "cells": [
  {
   "cell_type": "code",
   "execution_count": 6,
   "id": "164f4b7e",
   "metadata": {},
   "outputs": [
    {
     "name": "stdout",
     "output_type": "stream",
     "text": [
      "['a', 'g', 'g', 'c', 't', 't', 'c', 'a']\n"
     ]
    }
   ],
   "source": [
    "lista1 = ['a','g','t','c']\n",
    "lista2 = ['g','c','t','a']\n",
    "lista3 = []\n",
    "\n",
    "i = 0\n",
    "j = 0\n",
    "k = 0\n",
    "n = 2*len(lista1)\n",
    "\n",
    "while(i < n):\n",
    "    if(i % 2 == 0):\n",
    "        lista3.append(lista1[j])\n",
    "        j += 1\n",
    "    else:\n",
    "        lista3.append(lista2[k])\n",
    "        k += 1\n",
    "    i += 1\n",
    "    \n",
    "print(lista3)"
   ]
  }
 ],
 "metadata": {
  "kernelspec": {
   "display_name": "Python 3 (ipykernel)",
   "language": "python",
   "name": "python3"
  },
  "language_info": {
   "codemirror_mode": {
    "name": "ipython",
    "version": 3
   },
   "file_extension": ".py",
   "mimetype": "text/x-python",
   "name": "python",
   "nbconvert_exporter": "python",
   "pygments_lexer": "ipython3",
   "version": "3.7.4"
  }
 },
 "nbformat": 4,
 "nbformat_minor": 5
}
