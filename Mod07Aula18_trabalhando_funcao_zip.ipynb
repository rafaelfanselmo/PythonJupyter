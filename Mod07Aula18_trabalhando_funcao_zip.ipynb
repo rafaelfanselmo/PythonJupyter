{
 "cells": [
  {
   "cell_type": "code",
   "execution_count": 26,
   "id": "54320f00",
   "metadata": {},
   "outputs": [
    {
     "name": "stdout",
     "output_type": "stream",
     "text": [
      "[('a', 'a', 'a', 'a', 'a', 'a', 'a', 'a', 'a'), ('g', 'g', 'g', 'g', 'g', 'g', 'g', 'g', 'g'), ('t', 't', 't', 't', 't', 't', 't', 't', 't'), ('c', 'c', 'a', 'a', 'a', 'a', 'a', 'a', 'a')]\n",
      "Seq1 é igual a Seq2: 1\n",
      "Seq1 é igual a Seq2: 0\n"
     ]
    }
   ],
   "source": [
    "def verif_seq(s1,s2):\n",
    "    status = True\n",
    "    for xi, yi in zip(s1,s2):\n",
    "        if(xi != yi):\n",
    "            status = False\n",
    "            break\n",
    "    return status\n",
    "\n",
    "s1 = ['a','g','t','c']\n",
    "s2 = ['a','g','t','c']\n",
    "s3 = ['a','g','t','a']\n",
    "s4 = ['a','g','t','a']\n",
    "s5 = ['a','g','t','a']\n",
    "s6 = ['a','g','t','a']\n",
    "s7 = ['a','g','t','a']\n",
    "s8 = ['a','g','t','a']\n",
    "s9 = ['a','g','t','a']\n",
    "\n",
    "x = zip(s1,s2,s3,s4,s5,s6,s7,s8,s9)\n",
    "\n",
    "print(list(x))\n",
    "\n",
    "status = verif_seq(s1, s2)\n",
    "print(\"Seq1 é igual a Seq2: {0:b}\".format(status))\n",
    "\n",
    "status2 = verif_seq(s1, s3)\n",
    "print(\"Seq1 é igual a Seq2: {0:b}\".format(status2))\n"
   ]
  }
 ],
 "metadata": {
  "kernelspec": {
   "display_name": "Python 3 (ipykernel)",
   "language": "python",
   "name": "python3"
  },
  "language_info": {
   "codemirror_mode": {
    "name": "ipython",
    "version": 3
   },
   "file_extension": ".py",
   "mimetype": "text/x-python",
   "name": "python",
   "nbconvert_exporter": "python",
   "pygments_lexer": "ipython3",
   "version": "3.7.4"
  }
 },
 "nbformat": 4,
 "nbformat_minor": 5
}
