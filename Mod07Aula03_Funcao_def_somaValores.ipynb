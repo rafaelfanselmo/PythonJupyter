{
 "cells": [
  {
   "cell_type": "code",
   "execution_count": 7,
   "id": "cca59a44",
   "metadata": {},
   "outputs": [
    {
     "name": "stdout",
     "output_type": "stream",
     "text": [
      "Digite o primeiro valor: 2\n",
      "Digite o segundo valor: 3\n",
      "5.0\n",
      "5.0\n",
      "2 + 3 = 5.0\n"
     ]
    }
   ],
   "source": [
    "def somaVal(x,y):\n",
    "    z = float(x) + float(y)\n",
    "    z = str(z) # sem essa linha o programa tbm imprime o resultado da soma\n",
    "    return z\n",
    "\n",
    "x = input('Digite o primeiro valor: ')\n",
    "y = input('Digite o segundo valor: ')\n",
    "z = somaVal(x,y)\n",
    "print(z)\n",
    "print(somaVal(x,y))\n",
    "print(\"{0:s} + {1:s} = {2:s}\".format(x,y,z))"
   ]
  }
 ],
 "metadata": {
  "kernelspec": {
   "display_name": "Python 3 (ipykernel)",
   "language": "python",
   "name": "python3"
  },
  "language_info": {
   "codemirror_mode": {
    "name": "ipython",
    "version": 3
   },
   "file_extension": ".py",
   "mimetype": "text/x-python",
   "name": "python",
   "nbconvert_exporter": "python",
   "pygments_lexer": "ipython3",
   "version": "3.7.4"
  }
 },
 "nbformat": 4,
 "nbformat_minor": 5
}
