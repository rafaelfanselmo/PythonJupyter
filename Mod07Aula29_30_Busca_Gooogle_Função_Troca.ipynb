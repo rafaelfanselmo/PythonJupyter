{
 "cells": [
  {
   "cell_type": "code",
   "execution_count": 1,
   "id": "08db8ec6",
   "metadata": {},
   "outputs": [
    {
     "name": "stdout",
     "output_type": "stream",
     "text": [
      "[4.7, 5.4, 10.2, 3.1]\n",
      "[0, 1, 2, 3]\n",
      "[3.1, 4.7, 5.4, 10.2]\n",
      "[3, 0, 1, 2]\n"
     ]
    }
   ],
   "source": [
    "def troca(b,c):\n",
    "    return(c,b)\n",
    "\n",
    "def bubblesort(ind,crit):\n",
    "    n = len(crit)\n",
    "  \n",
    "    for j in range(1, n):\n",
    "        for i in range(0,n-1):\n",
    "            if(crit[i] > crit[i+1]):\n",
    "                crit[i],crit[i+1] = troca(crit[i],crit[i+1])\n",
    "                ind[i],ind[i+1]   = troca(ind[i],ind[i+1]) #adicionado posteriormente para que gere uma lista \n",
    "                                                           #de valores rankeados e uma linsta de indeces que acompanham esses valores\n",
    "    return(ind, crit)\n",
    "            \n",
    "            \n",
    "\n",
    "pagerank = [4.7, 5.4, 10.2, 3.1]\n",
    "index  = [0,1,2,3]\n",
    "\n",
    "print(pagerank)\n",
    "print(index)\n",
    "\n",
    "bubblesort(index,pagerank)\n",
    "\n",
    "print(pagerank)\n",
    "print(index)\n"
   ]
  }
 ],
 "metadata": {
  "kernelspec": {
   "display_name": "Python 3 (ipykernel)",
   "language": "python",
   "name": "python3"
  },
  "language_info": {
   "codemirror_mode": {
    "name": "ipython",
    "version": 3
   },
   "file_extension": ".py",
   "mimetype": "text/x-python",
   "name": "python",
   "nbconvert_exporter": "python",
   "pygments_lexer": "ipython3",
   "version": "3.7.4"
  }
 },
 "nbformat": 4,
 "nbformat_minor": 5
}
