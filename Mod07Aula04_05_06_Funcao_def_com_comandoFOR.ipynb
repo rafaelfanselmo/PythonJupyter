{
 "cells": [
  {
   "cell_type": "code",
   "execution_count": 5,
   "id": "7f99192c",
   "metadata": {},
   "outputs": [
    {
     "name": "stdout",
     "output_type": "stream",
     "text": [
      "##########\n",
      "Mensagem\n",
      "##########\n",
      "***************\n",
      "Mensagem\n",
      "***************\n"
     ]
    }
   ],
   "source": [
    "def sprint(simb,n):\n",
    "    for i in range(1,n+1,1):# podemos usar o parâmetro no range\n",
    "        print(simb, end = '')\n",
    "    print('')\n",
    "\n",
    "\n",
    "def bprint(men, simb = '#', n = 10):\n",
    "    sprint(simb,n)\n",
    "    print(men)\n",
    "    sprint(simb,n)\n",
    "'''\n",
    "criada a funçãop sprint pra retirar a repetição de laço FOR\n",
    "    for i in range(1,n+1,1):# podemos usar o parâmetro no range\n",
    "        print(simb, end = '')\n",
    "    print('')\n",
    "    print(men)\n",
    "    for i in range(1,n+1,1):\n",
    "        print(simb, end = '')\n",
    "    print('')\n",
    "''' \n",
    " \n",
    "m = 'Mensagem'\n",
    "s = '*'\n",
    "n = 15\n",
    "bprint(m) # se não informamos o parâmetro o programa \n",
    "          # usa os valores definido no padrão da função.\n",
    "bprint(m,s,n)"
   ]
  }
 ],
 "metadata": {
  "kernelspec": {
   "display_name": "Python 3 (ipykernel)",
   "language": "python",
   "name": "python3"
  },
  "language_info": {
   "codemirror_mode": {
    "name": "ipython",
    "version": 3
   },
   "file_extension": ".py",
   "mimetype": "text/x-python",
   "name": "python",
   "nbconvert_exporter": "python",
   "pygments_lexer": "ipython3",
   "version": "3.7.4"
  }
 },
 "nbformat": 4,
 "nbformat_minor": 5
}
