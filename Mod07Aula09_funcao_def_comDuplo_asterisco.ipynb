{
 "cells": [
  {
   "cell_type": "code",
   "execution_count": 2,
   "id": "b81ee026",
   "metadata": {},
   "outputs": [
    {
     "name": "stdout",
     "output_type": "stream",
     "text": [
      "ChaveUsarVermelha\n"
     ]
    }
   ],
   "source": [
    "def embaralha(**men):\n",
    "    print(men[\"p2\"]+men[\"p1\"]+men[\"p3\"])\n",
    "              \n",
    "embaralha(p1 = \"Usar\", p2 = \"Chave\", p3 = \"Vermelha\")"
   ]
  }
 ],
 "metadata": {
  "kernelspec": {
   "display_name": "Python 3 (ipykernel)",
   "language": "python",
   "name": "python3"
  },
  "language_info": {
   "codemirror_mode": {
    "name": "ipython",
    "version": 3
   },
   "file_extension": ".py",
   "mimetype": "text/x-python",
   "name": "python",
   "nbconvert_exporter": "python",
   "pygments_lexer": "ipython3",
   "version": "3.7.4"
  }
 },
 "nbformat": 4,
 "nbformat_minor": 5
}
