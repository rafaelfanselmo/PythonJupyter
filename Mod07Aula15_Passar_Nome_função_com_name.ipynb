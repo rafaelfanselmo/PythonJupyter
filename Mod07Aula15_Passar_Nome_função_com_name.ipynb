{
 "cells": [
  {
   "cell_type": "code",
   "execution_count": 21,
   "id": "6eea7934",
   "metadata": {},
   "outputs": [
    {
     "name": "stdout",
     "output_type": "stream",
     "text": [
      "1-Soma / 2-Produto3\n",
      "Opção Inexistente!\n",
      "prod(0,0)=0\n"
     ]
    }
   ],
   "source": [
    "'''\n",
    "for i in range(1,10,1):\n",
    "    print('{0:.2f} - {1:4d} - {2:4d}'.format(i,i*i,i*i*i))\n",
    " '''\n",
    "\n",
    "def soma(a,b):\n",
    "    return a+b\n",
    "\n",
    "def prod (a,b):\n",
    "    return a*b\n",
    "\n",
    "opt = input(\"1-Soma / 2-Produto\")\n",
    "\n",
    "a = 3\n",
    "b = 4\n",
    "\n",
    "if (opt==\"1\"):\n",
    "    f = soma\n",
    "elif(opt==\"2\"):\n",
    "    f = prod\n",
    "else:\n",
    "    print('Opção Inexistente!')\n",
    "    a = 0\n",
    "    b = 0\n",
    "    \n",
    "    \n",
    "r = f(a,b)\n",
    "\n",
    "name = f.__name__ # pega o nome da função conforme codificado no if.\n",
    "\n",
    "print('{0}({1},{2})={3}'.format(name,a,b,r))"
   ]
  }
 ],
 "metadata": {
  "kernelspec": {
   "display_name": "Python 3 (ipykernel)",
   "language": "python",
   "name": "python3"
  },
  "language_info": {
   "codemirror_mode": {
    "name": "ipython",
    "version": 3
   },
   "file_extension": ".py",
   "mimetype": "text/x-python",
   "name": "python",
   "nbconvert_exporter": "python",
   "pygments_lexer": "ipython3",
   "version": "3.7.4"
  }
 },
 "nbformat": 4,
 "nbformat_minor": 5
}
