{
 "cells": [
  {
   "cell_type": "code",
   "execution_count": 5,
   "id": "c4efc580",
   "metadata": {},
   "outputs": [
    {
     "name": "stdout",
     "output_type": "stream",
     "text": [
      "insira a temperatura: 30\n",
      "potencia media\n"
     ]
    }
   ],
   "source": [
    "temp = input(\"insira a temperatura: \")\n",
    "temp = int(temp)\n",
    "if (temp<= 20):\n",
    "    acao = \"desliga\"\n",
    "elif (temp <= 25):\n",
    "    acao = \"liga potencia minima\"\n",
    "elif (temp <= 30):\n",
    "    acao = \"potencia media\"\n",
    "else:\n",
    "    acao = \"ligar potencia maxima\"\n",
    "    \n",
    "print(acao)"
   ]
  }
 ],
 "metadata": {
  "kernelspec": {
   "display_name": "Python 3 (ipykernel)",
   "language": "python",
   "name": "python3"
  },
  "language_info": {
   "codemirror_mode": {
    "name": "ipython",
    "version": 3
   },
   "file_extension": ".py",
   "mimetype": "text/x-python",
   "name": "python",
   "nbconvert_exporter": "python",
   "pygments_lexer": "ipython3",
   "version": "3.7.4"
  }
 },
 "nbformat": 4,
 "nbformat_minor": 5
}
