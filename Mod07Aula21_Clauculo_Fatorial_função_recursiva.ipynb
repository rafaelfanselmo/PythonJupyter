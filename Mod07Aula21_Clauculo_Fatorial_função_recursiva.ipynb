{
 "cells": [
  {
   "cell_type": "code",
   "execution_count": 1,
   "id": "fcd7fedc",
   "metadata": {},
   "outputs": [
    {
     "name": "stdout",
     "output_type": "stream",
     "text": [
      "1\n",
      "1\n",
      "2\n",
      "6\n",
      "24\n",
      "120\n",
      "720\n"
     ]
    }
   ],
   "source": [
    "def fatorial(n):\n",
    "    if(n > 0):\n",
    "        r = n*fatorial(n-1)\n",
    "    else:\n",
    "        r = 1\n",
    "    return r\n",
    "\n",
    "print(fatorial(0))\n",
    "print(fatorial(1))\n",
    "print(fatorial(2))\n",
    "print(fatorial(3))\n",
    "print(fatorial(4))\n",
    "print(fatorial(5))\n",
    "print(fatorial(6))\n"
   ]
  }
 ],
 "metadata": {
  "kernelspec": {
   "display_name": "Python 3 (ipykernel)",
   "language": "python",
   "name": "python3"
  },
  "language_info": {
   "codemirror_mode": {
    "name": "ipython",
    "version": 3
   },
   "file_extension": ".py",
   "mimetype": "text/x-python",
   "name": "python",
   "nbconvert_exporter": "python",
   "pygments_lexer": "ipython3",
   "version": "3.7.4"
  }
 },
 "nbformat": 4,
 "nbformat_minor": 5
}
