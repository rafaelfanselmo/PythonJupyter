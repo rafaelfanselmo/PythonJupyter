{
 "cells": [
  {
   "cell_type": "code",
   "execution_count": 2,
   "id": "9216eec3",
   "metadata": {},
   "outputs": [
    {
     "name": "stdout",
     "output_type": "stream",
     "text": [
      "temp= 19\n",
      "umid= 0.61\n"
     ]
    }
   ],
   "source": [
    "temp = 20\n",
    "umid = 0.60\n",
    "\n",
    "if(temp >= 25):\n",
    "    temp = temp -5\n",
    "else:\n",
    "    if(umid<=0.20):\n",
    "        umid = umid + 0.4\n",
    "    elif(umid<=0.40):\n",
    "        umid = umid+0.10\n",
    "    else:\n",
    "        umid = umid + 0.01\n",
    "    temp = temp - 1\n",
    "    \n",
    "print(\"temp= \"+str(temp))\n",
    "print(\"umid= \"+str(umid))"
   ]
  }
 ],
 "metadata": {
  "kernelspec": {
   "display_name": "Python 3 (ipykernel)",
   "language": "python",
   "name": "python3"
  },
  "language_info": {
   "codemirror_mode": {
    "name": "ipython",
    "version": 3
   },
   "file_extension": ".py",
   "mimetype": "text/x-python",
   "name": "python",
   "nbconvert_exporter": "python",
   "pygments_lexer": "ipython3",
   "version": "3.7.4"
  }
 },
 "nbformat": 4,
 "nbformat_minor": 5
}
