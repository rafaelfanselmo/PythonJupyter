{
 "cells": [
  {
   "cell_type": "code",
   "execution_count": 11,
   "id": "6785ae90",
   "metadata": {},
   "outputs": [
    {
     "name": "stdout",
     "output_type": "stream",
     "text": [
      "Com faturamento.keys() imprime só as chaves\n",
      "dict_keys(['Empresa 1', 'Empresa 2'])\n",
      "\n",
      "Lista Empresas\n",
      "345600\n",
      "Empresa 1\n",
      "345600\n",
      "Empresa 2\n",
      "\n",
      "Lista de Faturamento\n",
      "200500\n",
      "200500\n",
      "345600\n",
      "345600\n"
     ]
    }
   ],
   "source": [
    "faturamento = {\"Empresa 1\":200500,\n",
    "               \"Empresa 2\":345600}\n",
    "print(\"Com faturamento.keys() imprime só as chaves\")\n",
    "print(faturamento.keys()) \n",
    "print()\n",
    "print(\"Lista Empresas\")\n",
    "for key in faturamento.keys():\n",
    "    #os dois jeitos abaixo imprime o mesmo valor\n",
    "    print(key) \n",
    "    print(\"{}\".format(key))\n",
    "    \n",
    "print()\n",
    "print(\"Lista de Faturamento\")\n",
    "for values in faturamento.values():\n",
    "    #os dois jeitos abaixo imprime o mesmo valor\n",
    "    print(values)\n",
    "    print(\"{}\".format(values))    "
   ]
  }
 ],
 "metadata": {
  "kernelspec": {
   "display_name": "Python 3 (ipykernel)",
   "language": "python",
   "name": "python3"
  },
  "language_info": {
   "codemirror_mode": {
    "name": "ipython",
    "version": 3
   },
   "file_extension": ".py",
   "mimetype": "text/x-python",
   "name": "python",
   "nbconvert_exporter": "python",
   "pygments_lexer": "ipython3",
   "version": "3.7.4"
  }
 },
 "nbformat": 4,
 "nbformat_minor": 5
}
