{
 "cells": [
  {
   "cell_type": "code",
   "execution_count": 1,
   "id": "638f891f",
   "metadata": {},
   "outputs": [
    {
     "name": "stdout",
     "output_type": "stream",
     "text": [
      "for  3\n",
      "for  -4\n",
      "for  -1\n",
      "for  0\n",
      "for  20\n",
      "if  20\n",
      "for  5\n",
      "for  9\n",
      "for  10\n",
      "20\n"
     ]
    }
   ],
   "source": [
    "def max_lista(lista1):\n",
    "    maior = lista1[0]\n",
    "    for xi in lista1:\n",
    "        if(xi > maior):\n",
    "            maior = xi\n",
    "    return maior\n",
    "    \n",
    "lista1 = [3,-4,-1,0,20,5,9,10]\n",
    "maxL = max_lista(lista1)\n",
    "\n",
    "print(maxL)"
   ]
  }
 ],
 "metadata": {
  "kernelspec": {
   "display_name": "Python 3 (ipykernel)",
   "language": "python",
   "name": "python3"
  },
  "language_info": {
   "codemirror_mode": {
    "name": "ipython",
    "version": 3
   },
   "file_extension": ".py",
   "mimetype": "text/x-python",
   "name": "python",
   "nbconvert_exporter": "python",
   "pygments_lexer": "ipython3",
   "version": "3.7.4"
  }
 },
 "nbformat": 4,
 "nbformat_minor": 5
}
