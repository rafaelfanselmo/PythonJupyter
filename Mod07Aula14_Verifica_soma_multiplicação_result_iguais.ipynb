{
 "cells": [
  {
   "cell_type": "code",
   "execution_count": 2,
   "id": "f2f7b9a7",
   "metadata": {},
   "outputs": [
    {
     "name": "stdout",
     "output_type": "stream",
     "text": [
      "7\n",
      "12\n",
      "Passou: (2,2)\n",
      "Pois: (2+2,2*2)=4, 4\n"
     ]
    }
   ],
   "source": [
    "def soma_prod(a,b):\n",
    "    c = a + b\n",
    "    d = a * b\n",
    "    return c,d\n",
    "\n",
    "def verif_par(n):\n",
    "    for i in range(1,n+1,1):\n",
    "        for j in range(1,n+1,1):\n",
    "            c,d= soma_prod(i,j)\n",
    "            if (c==d):\n",
    "                print(\"Passou: ({0:d},{1:d})\".format(i,j))\n",
    "                print(\"Pois: ({0:d}+{1:d},{0:d}*{1:d})={2:d}, {3:d}\".format(i,j,c,d))\n",
    "\n",
    "                \n",
    "c,d=soma_prod(3,4)\n",
    "print(c)\n",
    "print(d)\n",
    "n = 9\n",
    "verif_par(n)"
   ]
  }
 ],
 "metadata": {
  "kernelspec": {
   "display_name": "Python 3 (ipykernel)",
   "language": "python",
   "name": "python3"
  },
  "language_info": {
   "codemirror_mode": {
    "name": "ipython",
    "version": 3
   },
   "file_extension": ".py",
   "mimetype": "text/x-python",
   "name": "python",
   "nbconvert_exporter": "python",
   "pygments_lexer": "ipython3",
   "version": "3.7.4"
  }
 },
 "nbformat": 4,
 "nbformat_minor": 5
}
