{
 "cells": [
  {
   "cell_type": "code",
   "execution_count": 4,
   "id": "445e6d44",
   "metadata": {},
   "outputs": [
    {
     "name": "stdout",
     "output_type": "stream",
     "text": [
      "[7, 8, 9]\n",
      "Media = 8.0\n"
     ]
    }
   ],
   "source": [
    "def media(lista1):\n",
    "    soma = 0\n",
    "    cont = 0\n",
    "    for xi in lista1:\n",
    "        soma = soma + xi\n",
    "        cont = cont + 1 # conta a quantidade de elementos da lista\n",
    "                        # poderia usar a função len()\n",
    "    # med = soma/len(lista1)\n",
    "    med = soma/cont\n",
    "    return med\n",
    "    \n",
    "lista1 = [7,8,9]\n",
    "m = media(lista1)\n",
    "print(lista1)\n",
    "print(\"Media = \"+str(m))"
   ]
  }
 ],
 "metadata": {
  "kernelspec": {
   "display_name": "Python 3 (ipykernel)",
   "language": "python",
   "name": "python3"
  },
  "language_info": {
   "codemirror_mode": {
    "name": "ipython",
    "version": 3
   },
   "file_extension": ".py",
   "mimetype": "text/x-python",
   "name": "python",
   "nbconvert_exporter": "python",
   "pygments_lexer": "ipython3",
   "version": "3.7.4"
  }
 },
 "nbformat": 4,
 "nbformat_minor": 5
}
