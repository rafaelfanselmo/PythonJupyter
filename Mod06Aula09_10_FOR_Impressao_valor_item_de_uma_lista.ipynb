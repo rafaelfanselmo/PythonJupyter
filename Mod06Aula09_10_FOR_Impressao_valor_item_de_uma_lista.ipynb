{
 "cells": [
  {
   "cell_type": "code",
   "execution_count": 2,
   "id": "c56f261a",
   "metadata": {},
   "outputs": [
    {
     "name": "stdout",
     "output_type": "stream",
     "text": [
      "lista1: \n",
      "a\n",
      "b\n",
      "c\n",
      "d\n",
      "range(0, 5)\n",
      "lista2: \n",
      "i = 0\n",
      "i :  0\n",
      "a\n",
      "i = 1\n",
      "i :  1\n",
      "b\n",
      "i = 2\n",
      "i :  2\n",
      "c\n",
      "i = 3\n",
      "i :  3\n",
      "d\n",
      "i = 4\n",
      "i :  4\n",
      "e\n",
      "\n",
      "Impressão por interação\n",
      "a\n",
      "b\n",
      "c\n",
      "d\n",
      "e\n",
      "1 a\n",
      "2 b\n",
      "3 c\n",
      "4 d\n"
     ]
    }
   ],
   "source": [
    "lista1=['a','b','c','d']\n",
    "\n",
    "print(\"lista1: \")\n",
    "for i in lista1:\n",
    "    print(i)\n",
    "    \n",
    "lista2=['a','b','c','d','e']\n",
    "inter=range(0,len(lista2))\n",
    "print(inter) # imprime o range criado\n",
    "print(\"lista2: \")\n",
    "for i in inter:\n",
    "    print(\"i = \"+str(i)) # imprime índice\n",
    "    print(\"i : \",i) # imprime índice\n",
    "    print(lista2[i]) # imprime valor\n",
    "    \n",
    "print()\n",
    "print(\"Impressão por interação\")\n",
    "for i in lista2:\n",
    "    print(i) # imprime o valor\n",
    "    \n",
    "lista3={1:'a',2:'b',3:'c',4:'d'}\n",
    "for k, v in lista3.items():\n",
    "    print(k,v)\n"
   ]
  },
  {
   "cell_type": "code",
   "execution_count": null,
   "id": "788458cd",
   "metadata": {},
   "outputs": [],
   "source": []
  }
 ],
 "metadata": {
  "kernelspec": {
   "display_name": "Python 3 (ipykernel)",
   "language": "python",
   "name": "python3"
  },
  "language_info": {
   "codemirror_mode": {
    "name": "ipython",
    "version": 3
   },
   "file_extension": ".py",
   "mimetype": "text/x-python",
   "name": "python",
   "nbconvert_exporter": "python",
   "pygments_lexer": "ipython3",
   "version": "3.7.4"
  }
 },
 "nbformat": 4,
 "nbformat_minor": 5
}
