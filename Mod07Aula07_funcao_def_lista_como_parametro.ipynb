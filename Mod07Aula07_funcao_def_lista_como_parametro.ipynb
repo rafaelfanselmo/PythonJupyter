{
 "cells": [
  {
   "cell_type": "code",
   "execution_count": 8,
   "id": "51dfdd58",
   "metadata": {},
   "outputs": [
    {
     "name": "stdout",
     "output_type": "stream",
     "text": [
      "********************\n",
      "Mensagem\n",
      "********************\n",
      "----------\n",
      "['*', 20]\n",
      "----------\n",
      "----------\n",
      "Mensagem\n",
      "----------\n",
      "********************\n",
      "Mensagem\n",
      "********************\n",
      "********************\n",
      "Mensagem\n",
      "********************\n"
     ]
    }
   ],
   "source": [
    "def sprint(ss, nn):\n",
    "    for i in range(1,nn+1,1):\n",
    "        print(ss,end='')\n",
    "    print('')\n",
    "    \n",
    "def bprint(men, lista=['-',10]):\n",
    "    simb = lista[0]\n",
    "    n    = lista[1]\n",
    "    sprint(simb,n)\n",
    "    print(men)\n",
    "    sprint(simb,n)\n",
    "    \n",
    "m = 'Mensagem'\n",
    "l = ['*',20]\n",
    "\n",
    "bprint(m,l)\n",
    "bprint(l)\n",
    "bprint(m)\n",
    "bprint(men = m ,lista = l)\n",
    "bprint(lista = l , men = m )# posso mudar a ordem dos parãmetros desde que eu informe \n",
    "                            # o mesmo nome dos parâmetros para cada variável.\n"
   ]
  }
 ],
 "metadata": {
  "kernelspec": {
   "display_name": "Python 3 (ipykernel)",
   "language": "python",
   "name": "python3"
  },
  "language_info": {
   "codemirror_mode": {
    "name": "ipython",
    "version": 3
   },
   "file_extension": ".py",
   "mimetype": "text/x-python",
   "name": "python",
   "nbconvert_exporter": "python",
   "pygments_lexer": "ipython3",
   "version": "3.7.4"
  }
 },
 "nbformat": 4,
 "nbformat_minor": 5
}
