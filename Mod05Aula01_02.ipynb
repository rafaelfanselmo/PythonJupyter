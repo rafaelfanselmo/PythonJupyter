{
 "cells": [
  {
   "cell_type": "code",
   "execution_count": 14,
   "id": "67e353c1",
   "metadata": {},
   "outputs": [
    {
     "name": "stdout",
     "output_type": "stream",
     "text": [
      "x1 != x2: True\n",
      "x1 == x2: False\n",
      "x1 > x2: False\n",
      "x1 >= x2: False\n",
      "x1 < x2: True\n",
      "x1 <= x2: True\n",
      "entre com a Temperatura: 26\n",
      "1: Ligar o Ar=condicionado\n"
     ]
    }
   ],
   "source": [
    "#tipo booleando: True or False\n",
    "x1 = 1\n",
    "x2 = 2\n",
    "x3 = x1 != x2\n",
    "print(\"x1 != x2: \" + str(x3))\n",
    "x3 = x1 == x2\n",
    "print(\"x1 == x2: \" + str(x3))\n",
    "x3 = x1 > x2\n",
    "print(\"x1 > x2: \" + str(x3))\n",
    "x3 = x1 >= x2\n",
    "print(\"x1 >= x2: \" + str(x3))\n",
    "x3 = x1 < x2\n",
    "print(\"x1 < x2: \" + str(x3))\n",
    "x3 = x1 <= x2\n",
    "print(\"x1 <= x2: \" + str(x3))\n",
    "\n",
    "temperatura = input(\"entre com a Temperatura: \")\n",
    "temperatura = float(temperatura)\n",
    "teste = (temperatura > 25)\n",
    "if (teste == True):\n",
    "    print('1: Ligar o Ar=condicionado')\n",
    "else:\n",
    "    print('2: Desligar o Ar=condicionado')"
   ]
  }
 ],
 "metadata": {
  "kernelspec": {
   "display_name": "Python 3 (ipykernel)",
   "language": "python",
   "name": "python3"
  },
  "language_info": {
   "codemirror_mode": {
    "name": "ipython",
    "version": 3
   },
   "file_extension": ".py",
   "mimetype": "text/x-python",
   "name": "python",
   "nbconvert_exporter": "python",
   "pygments_lexer": "ipython3",
   "version": "3.7.4"
  }
 },
 "nbformat": 4,
 "nbformat_minor": 5
}
