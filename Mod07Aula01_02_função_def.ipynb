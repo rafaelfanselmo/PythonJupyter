{
 "cells": [
  {
   "cell_type": "code",
   "execution_count": 12,
   "id": "6d4e5686",
   "metadata": {},
   "outputs": [
    {
     "name": "stdout",
     "output_type": "stream",
     "text": [
      "Digite uma mensagem de chagada: hello\n",
      "digite uma mensagem de saída: bye\n",
      "digite o Primeiro valor: 2\n",
      "Digite o segundo Valor : 3\n",
      "-------------------\n",
      "hello teste bye\n",
      "-------------------\n",
      "Resulado da Soma é:  5\n",
      "-------------------\n"
     ]
    }
   ],
   "source": [
    "# para criar função em python é necessário \n",
    "# usar a palavra reservada/chave def = define função\n",
    "\n",
    "def bprint(mens, mens2, num1, num2):\n",
    "    print('-------------------')\n",
    "    print(mens+' teste '+mens2)\n",
    "    print('-------------------')\n",
    "    res=num1+num2\n",
    "    print('Resulado da Soma é: ',res)\n",
    "    print('-------------------')\n",
    "    \n",
    "#x = 'Ola'\n",
    "#y = 'Fui!'\n",
    "x = input('Digite uma mensagem de chagada: ')\n",
    "y = input('digite uma mensagem de saída: ')\n",
    "n = input('digite o Primeiro valor: ')\n",
    "n = int(n)\n",
    "m = input('Digite o segundo Valor : ')\n",
    "m = int(m)\n",
    "bprint(x,y,n,m)"
   ]
  }
 ],
 "metadata": {
  "kernelspec": {
   "display_name": "Python 3 (ipykernel)",
   "language": "python",
   "name": "python3"
  },
  "language_info": {
   "codemirror_mode": {
    "name": "ipython",
    "version": 3
   },
   "file_extension": ".py",
   "mimetype": "text/x-python",
   "name": "python",
   "nbconvert_exporter": "python",
   "pygments_lexer": "ipython3",
   "version": "3.7.4"
  }
 },
 "nbformat": 4,
 "nbformat_minor": 5
}
