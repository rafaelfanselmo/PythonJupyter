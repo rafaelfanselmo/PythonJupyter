{
 "cells": [
  {
   "cell_type": "code",
   "execution_count": 2,
   "id": "ae3cf6ef",
   "metadata": {},
   "outputs": [
    {
     "name": "stdout",
     "output_type": "stream",
     "text": [
      "1: Ligar ar\n",
      "3: Reduzir a temperatura\n",
      "5: Temperatura Final = 35\n"
     ]
    }
   ],
   "source": [
    "temp = 45\n",
    "if (temp > 25):\n",
    "    print('1: Ligar ar')\n",
    "    temp = temp - 5\n",
    "else:\n",
    "    print('2: Mostrar Teperatura = '+str(temp))\n",
    "    \n",
    "if (temp > 25):\n",
    "    print('3: Reduzir a temperatura')\n",
    "    temp = temp - 5\n",
    "else:\n",
    "    print('4: Temperatura = '+str(temp))\n",
    "    \n",
    "print('5: Temperatura Final = '+str(temp))\n",
    "    \n",
    "    "
   ]
  },
  {
   "cell_type": "code",
   "execution_count": null,
   "id": "b8da02dc",
   "metadata": {},
   "outputs": [],
   "source": []
  }
 ],
 "metadata": {
  "kernelspec": {
   "display_name": "Python 3 (ipykernel)",
   "language": "python",
   "name": "python3"
  },
  "language_info": {
   "codemirror_mode": {
    "name": "ipython",
    "version": 3
   },
   "file_extension": ".py",
   "mimetype": "text/x-python",
   "name": "python",
   "nbconvert_exporter": "python",
   "pygments_lexer": "ipython3",
   "version": "3.7.4"
  }
 },
 "nbformat": 4,
 "nbformat_minor": 5
}
