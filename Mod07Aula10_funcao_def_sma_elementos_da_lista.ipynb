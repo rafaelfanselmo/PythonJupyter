{
 "cells": [
  {
   "cell_type": "code",
   "execution_count": 11,
   "id": "36e13ce6",
   "metadata": {},
   "outputs": [
    {
     "name": "stdout",
     "output_type": "stream",
     "text": [
      "[2, -6, 7, 8]\n",
      "soma dos elementos = 11.00\n"
     ]
    }
   ],
   "source": [
    "def somaL(param):\n",
    "    soma = 0\n",
    "    for i in param:\n",
    "        #print(i)\n",
    "         soma = soma + i\n",
    "    return soma\n",
    "\n",
    "lista1 = [2,-6,7,8]\n",
    "soma = somaL(lista1)\n",
    "print(lista1)\n",
    "print(\"soma dos elementos = {0:.2f}\".format(soma))"
   ]
  }
 ],
 "metadata": {
  "kernelspec": {
   "display_name": "Python 3 (ipykernel)",
   "language": "python",
   "name": "python3"
  },
  "language_info": {
   "codemirror_mode": {
    "name": "ipython",
    "version": 3
   },
   "file_extension": ".py",
   "mimetype": "text/x-python",
   "name": "python",
   "nbconvert_exporter": "python",
   "pygments_lexer": "ipython3",
   "version": "3.7.4"
  }
 },
 "nbformat": 4,
 "nbformat_minor": 5
}
