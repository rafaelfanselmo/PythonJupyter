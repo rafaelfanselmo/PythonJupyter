{
 "cells": [
  {
   "cell_type": "code",
   "execution_count": 4,
   "id": "a2aac109",
   "metadata": {},
   "outputs": [
    {
     "name": "stdout",
     "output_type": "stream",
     "text": [
      "Entre com t:30\n",
      "Entre com u:59\n",
      "Ligar ar max\n"
     ]
    }
   ],
   "source": [
    "t=input('Entre com t:')\n",
    "t=float(t)\n",
    "u=input('Entre com u:')\n",
    "u=float(u)\n",
    "if (t<=20)and(u<=20):\n",
    "  acao=\"Ligar umid\"\n",
    "elif (t>20)and(t<30):\n",
    "  acao=\"Ligar ar leve\"\n",
    "elif (t>=30)and(u>20)and(u<60):\n",
    "  acao=\"Ligar ar max\"\n",
    "else:\n",
    "  acao=\"Nenhuma\"\n",
    "\n",
    "print(acao)"
   ]
  },
  {
   "cell_type": "code",
   "execution_count": null,
   "id": "528c1aa3",
   "metadata": {},
   "outputs": [],
   "source": []
  },
  {
   "cell_type": "code",
   "execution_count": null,
   "id": "d3952142",
   "metadata": {},
   "outputs": [],
   "source": []
  }
 ],
 "metadata": {
  "kernelspec": {
   "display_name": "Python 3 (ipykernel)",
   "language": "python",
   "name": "python3"
  },
  "language_info": {
   "codemirror_mode": {
    "name": "ipython",
    "version": 3
   },
   "file_extension": ".py",
   "mimetype": "text/x-python",
   "name": "python",
   "nbconvert_exporter": "python",
   "pygments_lexer": "ipython3",
   "version": "3.7.4"
  }
 },
 "nbformat": 4,
 "nbformat_minor": 5
}
