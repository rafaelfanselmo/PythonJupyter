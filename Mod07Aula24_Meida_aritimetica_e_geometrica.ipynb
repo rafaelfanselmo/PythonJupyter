{
 "cells": [
  {
   "cell_type": "code",
   "execution_count": 17,
   "id": "29c4acfc",
   "metadata": {},
   "outputs": [
    {
     "name": "stdout",
     "output_type": "stream",
     "text": [
      "Media Aritmétrica:  8.0\n",
      "Media Geométrica: 7.96\n"
     ]
    }
   ],
   "source": [
    "def ma(l):\n",
    "    soma = 0\n",
    "    div = len(l)\n",
    "    for i in l:\n",
    "        soma = soma + i\n",
    "    res = soma/div\n",
    "    return res\n",
    "\n",
    "def mg(l):\n",
    "    prod = 1\n",
    "    div = len(l)\n",
    "    for i in l:\n",
    "        prod = prod * i\n",
    "    res = prod**(1/div) #raiz \n",
    "    return res\n",
    "\n",
    "\n",
    "def mediaAG(lista, tip = 0):\n",
    "    if (tip == 0):\n",
    "        r = ma(lista)\n",
    "    else:\n",
    "        r = mg(lista)\n",
    "    return r\n",
    "    \n",
    "\n",
    "\n",
    "l1 = [7,8,9]\n",
    "t = 0\n",
    "\n",
    "print(\"Media Aritmétrica: \",mediaAG(l1,0))\n",
    "print(\"Media Geométrica: {0:.2f}\".format(mediaAG(l1,1)))\n"
   ]
  },
  {
   "cell_type": "code",
   "execution_count": null,
   "id": "596d304a",
   "metadata": {},
   "outputs": [],
   "source": []
  }
 ],
 "metadata": {
  "kernelspec": {
   "display_name": "Python 3 (ipykernel)",
   "language": "python",
   "name": "python3"
  },
  "language_info": {
   "codemirror_mode": {
    "name": "ipython",
    "version": 3
   },
   "file_extension": ".py",
   "mimetype": "text/x-python",
   "name": "python",
   "nbconvert_exporter": "python",
   "pygments_lexer": "ipython3",
   "version": "3.7.4"
  }
 },
 "nbformat": 4,
 "nbformat_minor": 5
}
