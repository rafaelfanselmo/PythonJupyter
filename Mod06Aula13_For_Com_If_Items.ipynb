{
 "cells": [
  {
   "cell_type": "code",
   "execution_count": 7,
   "id": "d949bf48",
   "metadata": {},
   "outputs": [
    {
     "name": "stdout",
     "output_type": "stream",
     "text": [
      "Relatório anual\n",
      "Empresa 1 200500\n",
      "Empresa 1 possui faturamento 200500.00\n",
      "Empresa 2 345600\n",
      "Empresa 2 possui faturamento 345600.00\n",
      "Empresa 2 atende critério de seleção\n"
     ]
    }
   ],
   "source": [
    "faturamento = {\"Empresa 1\":200500,\n",
    "               \"Empresa 2\":345600}\n",
    "\n",
    "print(\"Relatório anual\")\n",
    "\n",
    "for key, value in faturamento.items():\n",
    "    # as duas formas imprimem as chaves e valores porém a segunda imprime com formatação.\n",
    "    print(key, value)\n",
    "    print(\"{0} possui faturamento {1:.2f}\".format(key,value))\n",
    "    if (value > 300000):\n",
    "        print(\"{0} atende critério de seleção\".format(key))"
   ]
  }
 ],
 "metadata": {
  "kernelspec": {
   "display_name": "Python 3 (ipykernel)",
   "language": "python",
   "name": "python3"
  },
  "language_info": {
   "codemirror_mode": {
    "name": "ipython",
    "version": 3
   },
   "file_extension": ".py",
   "mimetype": "text/x-python",
   "name": "python",
   "nbconvert_exporter": "python",
   "pygments_lexer": "ipython3",
   "version": "3.7.4"
  }
 },
 "nbformat": 4,
 "nbformat_minor": 5
}
