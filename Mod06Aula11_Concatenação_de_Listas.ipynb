{
 "cells": [
  {
   "cell_type": "code",
   "execution_count": 4,
   "id": "6915c8e8",
   "metadata": {},
   "outputs": [
    {
     "name": "stdout",
     "output_type": "stream",
     "text": [
      "['a', 'b', 'c', 'd']\n",
      "['x', 'w', 'y', 'z']\n",
      "['1', '2', '3', '4']\n",
      "['a', 'x', '1', 'b', 'w', '2', 'c', 'y', '3', 'd', 'z', '4']\n"
     ]
    }
   ],
   "source": [
    "lista1 = ['a','b','c','d']\n",
    "lista2 = ['x','w','y','z']\n",
    "lista3 = ['1','2','3','4']\n",
    "lista4 = []\n",
    "\n",
    "for i,j,h in zip(lista1,lista2,lista3):\n",
    "    lista4.append(i)\n",
    "    lista4.append(j)\n",
    "    lista4.append(h)\n",
    "    \n",
    "print(lista1)\n",
    "print(lista2)\n",
    "print(lista3)\n",
    "print(lista4)\n",
    " "
   ]
  }
 ],
 "metadata": {
  "kernelspec": {
   "display_name": "Python 3 (ipykernel)",
   "language": "python",
   "name": "python3"
  },
  "language_info": {
   "codemirror_mode": {
    "name": "ipython",
    "version": 3
   },
   "file_extension": ".py",
   "mimetype": "text/x-python",
   "name": "python",
   "nbconvert_exporter": "python",
   "pygments_lexer": "ipython3",
   "version": "3.7.4"
  }
 },
 "nbformat": 4,
 "nbformat_minor": 5
}
