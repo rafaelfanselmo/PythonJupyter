{
 "cells": [
  {
   "cell_type": "code",
   "execution_count": 7,
   "id": "5ddf3687",
   "metadata": {},
   "outputs": [
    {
     "name": "stdout",
     "output_type": "stream",
     "text": [
      "Elemento Encontrado\n",
      "na posição: 3\n",
      "Elemento Encontrado\n",
      "na posição: 5\n",
      "[3, 5]\n",
      "Primeira Ocorrência: 3\n",
      "Ultima Ocorrência: 5\n",
      "Ultima Ocorrência: 5\n"
     ]
    }
   ],
   "source": [
    "lista1=['a','b','c','d','e','d']\n",
    "valor = 'd'\n",
    "vc = []\n",
    "i = 0\n",
    "\n",
    "while (i < len(lista1)):\n",
    "    if(lista1[i] == valor):\n",
    "        print(\"Elemento Encontrado\")\n",
    "        print(\"na posição: \"+str(i))\n",
    "        vc.append(i)\n",
    "                \n",
    "    i += 1\n",
    "print(vc)\n",
    "print(\"Primeira Ocorrência: \"+str(vc[0]))\n",
    "print(\"Ultima Ocorrência: \"+str(vc[-1]))\n",
    "# ou a opção abaixo\n",
    "print(\"Ultima Ocorrência: \"+str(vc[len(vc)-1]))"
   ]
  }
 ],
 "metadata": {
  "kernelspec": {
   "display_name": "Python 3 (ipykernel)",
   "language": "python",
   "name": "python3"
  },
  "language_info": {
   "codemirror_mode": {
    "name": "ipython",
    "version": 3
   },
   "file_extension": ".py",
   "mimetype": "text/x-python",
   "name": "python",
   "nbconvert_exporter": "python",
   "pygments_lexer": "ipython3",
   "version": "3.7.4"
  }
 },
 "nbformat": 4,
 "nbformat_minor": 5
}
