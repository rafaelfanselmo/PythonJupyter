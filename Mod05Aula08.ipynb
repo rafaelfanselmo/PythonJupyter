{
 "cells": [
  {
   "cell_type": "code",
   "execution_count": 6,
   "id": "80c790f5",
   "metadata": {},
   "outputs": [
    {
     "name": "stdout",
     "output_type": "stream",
     "text": [
      "Informe o salrário: 3000\n",
      "Bruto:    3000.00, Faixa: 2, Imposto: 450.00\n",
      "Padrão: 354.80, Pagar: 95.20, Liquido: 2904.80\n"
     ]
    }
   ],
   "source": [
    "\n",
    "salario = input(\"Informe o salrário: \")\n",
    "salario = float(salario)\n",
    "\n",
    "fDesc = {0:0.0, 1:7.5    , 2:15     , 3:22.5   , 4:27.5 }\n",
    "fVpad = {0:0  , 1:142.80 , 2:354.80 , 3:363.13 , 4:869.36}\n",
    "\n",
    "\n",
    "if (salario == 1903.98):\n",
    "    faixa = 0\n",
    "elif (salario>=1903.99) and (salario<=2826.65) :\n",
    "    faixa = 1\n",
    "elif (salario>=2826.66) and (salario<=3751.05) :\n",
    "    faixa = 2\n",
    "elif (salario>=3751.06) and (salario<=4664.68) :\n",
    "    faixa = 3\n",
    "else:\n",
    "    faixa = 4\n",
    "    \n",
    "imposto = salario * (fDesc[faixa]/100)\n",
    "vpad = fVpad[faixa]\n",
    "imp_pagar = imposto - vpad\n",
    "liquido = salario - imp_pagar\n",
    "\n",
    "m1 = \"Bruto: %10.2f, Faixa: %d, Imposto: %5.2f\" %(salario, faixa, imposto)\n",
    "m2 = \"Padrão: %5.2f, Pagar: %5.2f, Liquido: %5.2f\" %(vpad, imp_pagar,liquido)\n",
    "\n",
    "print(m1)\n",
    "print(m2)\n"
   ]
  }
 ],
 "metadata": {
  "kernelspec": {
   "display_name": "Python 3 (ipykernel)",
   "language": "python",
   "name": "python3"
  },
  "language_info": {
   "codemirror_mode": {
    "name": "ipython",
    "version": 3
   },
   "file_extension": ".py",
   "mimetype": "text/x-python",
   "name": "python",
   "nbconvert_exporter": "python",
   "pygments_lexer": "ipython3",
   "version": "3.7.4"
  }
 },
 "nbformat": 4,
 "nbformat_minor": 5
}
