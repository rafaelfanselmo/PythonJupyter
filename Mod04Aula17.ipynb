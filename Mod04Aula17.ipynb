{
 "cells": [
  {
   "cell_type": "code",
   "execution_count": 11,
   "id": "dadd958c",
   "metadata": {},
   "outputs": [
    {
     "name": "stdout",
     "output_type": "stream",
     "text": [
      "   Empresa 1  Empresa 2  Empresa 3  Empresa 4  Empresa 5\n",
      "0          4          9          6          4          2\n",
      "1          9          6          4          2          4\n",
      "2          6          4          2          4          9\n",
      "3          5         15         25         35         45\n",
      "Variancia 3.5\n",
      "Desvio Padrão 1.8708286933869707\n",
      "Media 6.0\n",
      "Mediana 5.5\n",
      "Moda 0    4\n",
      "1    5\n",
      "2    6\n",
      "3    9\n",
      "dtype: int64\n",
      "Maximo 9\n",
      "Minimo 4\n"
     ]
    }
   ],
   "source": [
    "import pandas as pd\n",
    "\n",
    "dado_hist = {\n",
    "    'Empresa 1':[4,9,6,5],\n",
    "    'Empresa 2':[9,6,4,15],\n",
    "    'Empresa 3':[6,4,2,25],\n",
    "    'Empresa 4':[4,2,4,35],\n",
    "    'Empresa 5':[2,4,9,45],\n",
    "    }\n",
    "df = pd.DataFrame(dado_hist)\n",
    "print(df)\n",
    "\n",
    "variancia = df.loc[:,'Empresa 1'].var(ddof=0)\n",
    "desviopd  = df.loc[:,'Empresa 1'].std(ddof=0)\n",
    "media     = df.loc[:,'Empresa 1'].mean()\n",
    "median    = df.loc[:,'Empresa 1'].median()\n",
    "mode      = df.loc[:,'Empresa 1'].mode()\n",
    "max       = df.loc[:,'Empresa 1'].max()\n",
    "min       = df.loc[:,'Empresa 1'].min()\n",
    "\n",
    "print(\"Variancia \"+str(variancia))\n",
    "print(\"Desvio Padrão \"+str(desviopd))\n",
    "print(\"Media \"+str(media))\n",
    "print(\"Mediana \"+str(median))\n",
    "print(\"Moda \"+str(mode))\n",
    "print(\"Maximo \"+str(max))\n",
    "print(\"Minimo \"+str(min))\n"
   ]
  },
  {
   "cell_type": "code",
   "execution_count": 6,
   "id": "10371b82",
   "metadata": {},
   "outputs": [
    {
     "data": {
      "text/plain": [
       "<bound method NDFrame._add_numeric_operations.<locals>.var of 0    4\n",
       "1    9\n",
       "2    6\n",
       "3    5\n",
       "Name: Empresa 1, dtype: int64>"
      ]
     },
     "execution_count": 6,
     "metadata": {},
     "output_type": "execute_result"
    }
   ],
   "source": []
  }
 ],
 "metadata": {
  "kernelspec": {
   "display_name": "Python 3 (ipykernel)",
   "language": "python",
   "name": "python3"
  },
  "language_info": {
   "codemirror_mode": {
    "name": "ipython",
    "version": 3
   },
   "file_extension": ".py",
   "mimetype": "text/x-python",
   "name": "python",
   "nbconvert_exporter": "python",
   "pygments_lexer": "ipython3",
   "version": "3.7.4"
  }
 },
 "nbformat": 4,
 "nbformat_minor": 5
}
