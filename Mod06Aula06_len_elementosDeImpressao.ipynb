{
 "cells": [
  {
   "cell_type": "code",
   "execution_count": 9,
   "id": "2cc97c79",
   "metadata": {},
   "outputs": [
    {
     "name": "stdout",
     "output_type": "stream",
     "text": [
      "a\n",
      "lista1[0] = a\n",
      "lista1[1] = b\n",
      "lista1[2] = c\n",
      "lista1[3] = d\n",
      "lista1[4] = e\n"
     ]
    }
   ],
   "source": [
    "lista1 = ['a','b','c','d','e']\n",
    "lista1[0]\n",
    "print(lista1[0])\n",
    "\n",
    "i = 0\n",
    "n = len(lista1)\n",
    "while(i < n):\n",
    "    elem = \"lista1[%i] = %s\"%(i,lista1[i])\n",
    "    print(elem)\n",
    "    i += 1\n"
   ]
  }
 ],
 "metadata": {
  "kernelspec": {
   "display_name": "Python 3 (ipykernel)",
   "language": "python",
   "name": "python3"
  },
  "language_info": {
   "codemirror_mode": {
    "name": "ipython",
    "version": 3
   },
   "file_extension": ".py",
   "mimetype": "text/x-python",
   "name": "python",
   "nbconvert_exporter": "python",
   "pygments_lexer": "ipython3",
   "version": "3.7.4"
  }
 },
 "nbformat": 4,
 "nbformat_minor": 5
}
