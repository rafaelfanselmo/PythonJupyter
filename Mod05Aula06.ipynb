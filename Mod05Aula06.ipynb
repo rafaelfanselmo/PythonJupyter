{
 "cells": [
  {
   "cell_type": "code",
   "execution_count": 3,
   "id": "e98f968b",
   "metadata": {
    "scrolled": true
   },
   "outputs": [
    {
     "name": "stdout",
     "output_type": "stream",
     "text": [
      "Digite a temperatura: 30\n",
      "Digite a umidade: 10\n",
      "Temperatura = 30.00 e Umidade = 10.00 - Ação: Ligar ar-condicionado max.\n"
     ]
    }
   ],
   "source": [
    "temp = input('Digite a temperatura: ')\n",
    "temp = float(temp)\n",
    "umid = input('Digite a umidade: ')\n",
    "umid = float(umid)\n",
    "\n",
    "if ((temp <= 20)and(umid <= 20)):\n",
    "  acao = \"Ligar umidificador\"\n",
    "elif (((temp > 20)and(temp < 30))and(umid >= 60)):\n",
    "  acao = \"Ligar ar-condicionado leve\"\n",
    "elif (temp >= 30):\n",
    "  acao = \"Ligar ar-condicionado max.\"\n",
    "else:\n",
    "  acao = \"Nenhum ação definida\"  \n",
    "\n",
    "mensagem = \"Temperatura = %4.2f e Umidade = %4.2f - Ação: %s\" % (temp,umid,acao)\n",
    "print(mensagem)"
   ]
  },
  {
   "cell_type": "code",
   "execution_count": null,
   "id": "951cebac",
   "metadata": {},
   "outputs": [],
   "source": []
  },
  {
   "cell_type": "code",
   "execution_count": null,
   "id": "24cc5897",
   "metadata": {},
   "outputs": [],
   "source": []
  }
 ],
 "metadata": {
  "kernelspec": {
   "display_name": "Python 3 (ipykernel)",
   "language": "python",
   "name": "python3"
  },
  "language_info": {
   "codemirror_mode": {
    "name": "ipython",
    "version": 3
   },
   "file_extension": ".py",
   "mimetype": "text/x-python",
   "name": "python",
   "nbconvert_exporter": "python",
   "pygments_lexer": "ipython3",
   "version": "3.7.4"
  }
 },
 "nbformat": 4,
 "nbformat_minor": 5
}
